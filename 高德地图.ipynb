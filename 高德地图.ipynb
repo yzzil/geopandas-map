{
 "cells": [
  {
   "cell_type": "code",
   "execution_count": 17,
   "id": "694be02d",
   "metadata": {},
   "outputs": [],
   "source": [
    "# key:3e135c8cb8292eedcd5e342ddc1c9d43"
   ]
  },
  {
   "cell_type": "code",
   "execution_count": 22,
   "id": "b54fac9f",
   "metadata": {},
   "outputs": [],
   "source": [
    "import json"
   ]
  },
  {
   "cell_type": "code",
   "execution_count": 71,
   "id": "1844de16",
   "metadata": {},
   "outputs": [],
   "source": [
    "KEY = '3e135c8cb8292eedcd5e342ddc1c9d43'\n",
    "CITY = '北京市'\n",
    "ADDRESS = '北京市朝阳区朝阳北路152号院'\n",
    "OUTPUT = 'json'\n",
    "RADIUS = 1000\n"
   ]
  },
  {
   "cell_type": "code",
   "execution_count": 293,
   "id": "39dd87e0",
   "metadata": {},
   "outputs": [],
   "source": [
    "def get_position(LOCATION):    \n",
    "    KEY = '3e135c8cb8292eedcd5e342ddc1c9d43'\n",
    "    LOCATION = LOCATION\n",
    "    RADIUS = 100\n",
    "    OUTPUT = 'json'\n",
    "    EX = 'all'\n",
    "    # POI_type = '商场|购物服务'\n",
    "    url = 'https://restapi.amap.com/v3/geocode/regeo'\n",
    "    # params = {\n",
    "    #     \"location\": str(lat)+','+str(lng),\n",
    "    #     \"output\": 'json',\n",
    "    #     \"key\": KEY,\n",
    "    # }\n",
    "    params = {\n",
    "        \"location\": LOCATION,\n",
    "        \"output\": OUTPUT,\n",
    "        \"key\": KEY,\n",
    "        'radius': RADIUS,\n",
    "        'extensions': EX,\n",
    "        'poitype': '商务住宅|住宅区|住宅小区'\n",
    "    }\n",
    "    response = requests.get(url, params = params)\n",
    "    answer = json.loads(response.content)\n",
    "    # 这种方式也可以\n",
    "    position = response.json()\n",
    "    position=answer['regeocode']['formatted_address']\n",
    "    return position"
   ]
  },
  {
   "cell_type": "code",
   "execution_count": 294,
   "id": "20a09420",
   "metadata": {},
   "outputs": [
    {
     "data": {
      "text/plain": [
       "'吉林省四平市铁东区平东街道万达华宅A区'"
      ]
     },
     "execution_count": 294,
     "metadata": {},
     "output_type": "execute_result"
    }
   ],
   "source": [
    "LOCATION = '124.3915660264757,43.15665608723958'\n",
    "pos=get_position(LOCATION)    \n",
    "pos"
   ]
  },
  {
   "cell_type": "code",
   "execution_count": 197,
   "id": "3110427c",
   "metadata": {},
   "outputs": [],
   "source": [
    "from math import radians, cos, sin, asin, sqrt\n",
    "\n",
    "#计算两点间距离-m\n",
    "def geodistance(lng1,lat1,lng2,lat2):\n",
    "    lng1, lat1, lng2, lat2 = map(radians, [lng1, lat1, lng2, lat2])\n",
    "    dlon=lng2-lng1\n",
    "    dlat=lat2-lat1\n",
    "    a=sin(dlat/2)**2 + cos(lat1) * cos(lat2) * sin(dlon/2)**2 \n",
    "    dis=2*asin(sqrt(a))*6371*1000\n",
    "    return dis"
   ]
  },
  {
   "cell_type": "code",
   "execution_count": 250,
   "id": "1a491820",
   "metadata": {},
   "outputs": [],
   "source": [
    "lng1=116.37448187934028\n",
    "lat1=39.88469997829861\n",
    "lng2=116.51767957899305\n",
    "lat2=40.04180718315972\n",
    "lng3=116.38990885416666\n",
    "lat3=39.86699978298611"
   ]
  },
  {
   "cell_type": "code",
   "execution_count": 251,
   "id": "d46a90f7",
   "metadata": {},
   "outputs": [
    {
     "data": {
      "text/plain": [
       "2367.8612854495864"
      ]
     },
     "execution_count": 251,
     "metadata": {},
     "output_type": "execute_result"
    }
   ],
   "source": [
    "geodistance(lng1,lat1,lng3,lat3)"
   ]
  },
  {
   "cell_type": "code",
   "execution_count": 302,
   "id": "fe77cc47",
   "metadata": {},
   "outputs": [],
   "source": [
    "from math import radians, cos, sin, asin, sqrt\n",
    "\n",
    "#计算两点间距离-m\n",
    "def geodistance(p1,p2):\n",
    "    lng1, lat1, lng2, lat2 = map(radians, [p1[0], p1[1], p2[0], p2[1]])\n",
    "    dlon=lng2-lng1\n",
    "    dlat=lat2-lat1\n",
    "    a=sin(dlat/2)**2 + cos(lat1) * cos(lat2) * sin(dlon/2)**2 \n",
    "    dis=2*asin(sqrt(a))*6371*1000\n",
    "    return dis"
   ]
  },
  {
   "cell_type": "code",
   "execution_count": 303,
   "id": "595e63e6",
   "metadata": {},
   "outputs": [
    {
     "data": {
      "text/plain": [
       "21310.230409425174"
      ]
     },
     "execution_count": 303,
     "metadata": {},
     "output_type": "execute_result"
    }
   ],
   "source": [
    "geodistance(p1,p2)"
   ]
  },
  {
   "cell_type": "code",
   "execution_count": 305,
   "id": "70673606",
   "metadata": {},
   "outputs": [
    {
     "data": {
      "text/plain": [
       "2367.8612854495864"
      ]
     },
     "execution_count": 305,
     "metadata": {},
     "output_type": "execute_result"
    }
   ],
   "source": [
    "geodistance(p1,p3)"
   ]
  },
  {
   "cell_type": "code",
   "execution_count": null,
   "id": "a360296a",
   "metadata": {},
   "outputs": [],
   "source": []
  },
  {
   "cell_type": "code",
   "execution_count": 297,
   "id": "6fefef03",
   "metadata": {},
   "outputs": [],
   "source": [
    "p1=[116.37448187934028,39.88469997829861]"
   ]
  },
  {
   "cell_type": "code",
   "execution_count": 304,
   "id": "544489f6",
   "metadata": {},
   "outputs": [],
   "source": [
    "p2=[116.51767957899305,40.04180718315972]\n",
    "p3=[116.38990885416666,39.86699978298611]"
   ]
  },
  {
   "cell_type": "code",
   "execution_count": 301,
   "id": "03a522ac",
   "metadata": {},
   "outputs": [
    {
     "data": {
      "text/plain": [
       "116.37448187934028"
      ]
     },
     "execution_count": 301,
     "metadata": {},
     "output_type": "execute_result"
    }
   ],
   "source": [
    "p1[0]"
   ]
  },
  {
   "cell_type": "code",
   "execution_count": null,
   "id": "d2e0c695",
   "metadata": {},
   "outputs": [],
   "source": []
  },
  {
   "cell_type": "code",
   "execution_count": 210,
   "id": "65d8c37a",
   "metadata": {},
   "outputs": [],
   "source": [
    "import geopandas as gpd"
   ]
  },
  {
   "cell_type": "code",
   "execution_count": 226,
   "id": "85e209d1",
   "metadata": {},
   "outputs": [],
   "source": [
    "from shapely.geometry import Polygon\n",
    "from shapely import geometry"
   ]
  },
  {
   "cell_type": "code",
   "execution_count": 256,
   "id": "fd0fcb66",
   "metadata": {},
   "outputs": [
    {
     "data": {
      "image/svg+xml": [
       "<svg xmlns=\"http://www.w3.org/2000/svg\" xmlns:xlink=\"http://www.w3.org/1999/xlink\" width=\"100.0\" height=\"100.0\" viewBox=\"-0.28 -0.28 5.5600000000000005 7.5600000000000005\" preserveAspectRatio=\"xMinYMin meet\"><g transform=\"matrix(1,0,0,-1,0,7.0)\"><path fill-rule=\"evenodd\" fill=\"#66cc99\" stroke=\"#555555\" stroke-width=\"0.1512\" opacity=\"0.6\" d=\"M 0.0,0.0 L 4.0,1.0 L 5.0,3.0 L 0.0,7.0 L 0.0,0.0 z\" /></g></svg>"
      ],
      "text/plain": [
       "<POLYGON ((0 0, 4 1, 5 3, 0 7, 0 0))>"
      ]
     },
     "execution_count": 256,
     "metadata": {},
     "output_type": "execute_result"
    }
   ],
   "source": [
    "Polygon([(0, 0), (4, 1), (5, 3), (0, 7)])\n"
   ]
  },
  {
   "cell_type": "code",
   "execution_count": 247,
   "id": "25147526",
   "metadata": {},
   "outputs": [],
   "source": [
    "pol1=gpd.GeoSeries(geometry.Point([116.38990885416666,39.86699978298611]),crs='EPSG:4326').to_crs('EPSG:3857')\n",
    "pol2=gpd.GeoSeries(geometry.Point([116.37448187934028,39.88469997829861]),crs='EPSG:4326').to_crs('EPSG:3857')\n",
    "# index=['pol1','pol2'])"
   ]
  },
  {
   "cell_type": "code",
   "execution_count": 252,
   "id": "fb4bc6d6",
   "metadata": {
    "scrolled": true
   },
   "outputs": [
    {
     "data": {
      "text/plain": [
       "0    3088.877186\n",
       "dtype: float64"
      ]
     },
     "execution_count": 252,
     "metadata": {},
     "output_type": "execute_result"
    }
   ],
   "source": [
    "pol1.distance(pol2)\n"
   ]
  },
  {
   "cell_type": "code",
   "execution_count": null,
   "id": "e078f87b",
   "metadata": {},
   "outputs": [],
   "source": []
  },
  {
   "cell_type": "code",
   "execution_count": 182,
   "id": "fc0e9fcd",
   "metadata": {
    "scrolled": false
   },
   "outputs": [
    {
     "data": {
      "text/plain": [
       "list"
      ]
     },
     "execution_count": 182,
     "metadata": {},
     "output_type": "execute_result"
    }
   ],
   "source": [
    "type(re.findall(r'\\[(.*)\\]', str(['A','B','C'])))"
   ]
  },
  {
   "cell_type": "code",
   "execution_count": 178,
   "id": "a7dbe851",
   "metadata": {
    "scrolled": true
   },
   "outputs": [
    {
     "ename": "TypeError",
     "evalue": "string indices must be integers",
     "output_type": "error",
     "traceback": [
      "\u001b[0;31m---------------------------------------------------------------------------\u001b[0m",
      "\u001b[0;31mTypeError\u001b[0m                                 Traceback (most recent call last)",
      "Cell \u001b[0;32mIn[178], line 1\u001b[0m\n\u001b[0;32m----> 1\u001b[0m \u001b[43mpos_str\u001b[49m\u001b[43m[\u001b[49m\u001b[38;5;124;43m'\u001b[39;49m\u001b[38;5;124;43mname\u001b[39;49m\u001b[38;5;124;43m'\u001b[39;49m\u001b[43m]\u001b[49m\n",
      "\u001b[0;31mTypeError\u001b[0m: string indices must be integers"
     ]
    }
   ],
   "source": [
    "pos_str['name']"
   ]
  },
  {
   "cell_type": "code",
   "execution_count": 125,
   "id": "f3279d2f",
   "metadata": {},
   "outputs": [],
   "source": [
    "import json"
   ]
  },
  {
   "cell_type": "code",
   "execution_count": 174,
   "id": "21098289",
   "metadata": {
    "scrolled": true
   },
   "outputs": [],
   "source": [
    "pos_str=json.dumps(findall)"
   ]
  },
  {
   "cell_type": "code",
   "execution_count": 176,
   "id": "1fb4693b",
   "metadata": {},
   "outputs": [],
   "source": [
    "pos=json.loads(pos_str)"
   ]
  },
  {
   "cell_type": "code",
   "execution_count": 175,
   "id": "b7a64cd3",
   "metadata": {},
   "outputs": [
    {
     "data": {
      "text/plain": [
       "'[\"\\\\\"{\\'id\\': \\'B001C7Y08I\\', \\'name\\': \\'\\\\u6850\\\\u6893\\\\u6797\\\\u6b27\\\\u57ce\\', \\'type\\': \\'\\\\u5546\\\\u52a1\\\\u4f4f\\\\u5b85;\\\\u4f4f\\\\u5b85\\\\u533a;\\\\u4f4f\\\\u5b85\\\\u5c0f\\\\u533a\\', \\'tel\\': [], \\'direction\\': \\'\\\\u4e1c\\\\u5357\\', \\'distance\\': \\'70.228\\', \\'location\\': \\'104.061604,30.610669\\', \\'address\\': \\'\\\\u6850\\\\u6893\\\\u6797\\\\u8def\\\\u5357\\\\u8def7\\\\u53f7\\', \\'poiweight\\': \\'0.525456\\', \\'businessarea\\': \\'\\\\u6850\\\\u6893\\\\u6797\\'}\\\\\"\"]'"
      ]
     },
     "execution_count": 175,
     "metadata": {},
     "output_type": "execute_result"
    }
   ],
   "source": [
    "pos_str"
   ]
  },
  {
   "cell_type": "code",
   "execution_count": 177,
   "id": "a46cff46",
   "metadata": {},
   "outputs": [
    {
     "data": {
      "text/plain": [
       "['\"{\\'id\\': \\'B001C7Y08I\\', \\'name\\': \\'桐梓林欧城\\', \\'type\\': \\'商务住宅;住宅区;住宅小区\\', \\'tel\\': [], \\'direction\\': \\'东南\\', \\'distance\\': \\'70.228\\', \\'location\\': \\'104.061604,30.610669\\', \\'address\\': \\'桐梓林路南路7号\\', \\'poiweight\\': \\'0.525456\\', \\'businessarea\\': \\'桐梓林\\'}\"']"
      ]
     },
     "execution_count": 177,
     "metadata": {},
     "output_type": "execute_result"
    }
   ],
   "source": [
    "pos"
   ]
  },
  {
   "cell_type": "markdown",
   "id": "d272d80a",
   "metadata": {},
   "source": [
    "### str(pos)"
   ]
  },
  {
   "cell_type": "code",
   "execution_count": 120,
   "id": "5d89bb36",
   "metadata": {},
   "outputs": [
    {
     "data": {
      "text/plain": [
       "'()'"
      ]
     },
     "execution_count": 120,
     "metadata": {},
     "output_type": "execute_result"
    }
   ],
   "source": [
    "import re\n",
    "re.sub(str(pos),'[','()')"
   ]
  },
  {
   "cell_type": "code",
   "execution_count": 118,
   "id": "6b117b2e",
   "metadata": {},
   "outputs": [
    {
     "data": {
      "text/plain": [
       "[{'id': 'B001C7Y08I',\n",
       "  'name': '桐梓林欧城',\n",
       "  'type': '商务住宅;住宅区;住宅小区',\n",
       "  'tel': [],\n",
       "  'direction': '东南',\n",
       "  'distance': '70.228',\n",
       "  'location': '104.061604,30.610669',\n",
       "  'address': '桐梓林路南路7号',\n",
       "  'poiweight': '0.525456',\n",
       "  'businessarea': '桐梓林'}]"
      ]
     },
     "execution_count": 118,
     "metadata": {},
     "output_type": "execute_result"
    }
   ],
   "source": [
    "pos"
   ]
  },
  {
   "cell_type": "code",
   "execution_count": 96,
   "id": "24766fab",
   "metadata": {
    "scrolled": true
   },
   "outputs": [
    {
     "data": {
      "text/plain": [
       "{'status': '1',\n",
       " 'info': 'OK',\n",
       " 'infocode': '10000',\n",
       " 'regeocode': {'formatted_address': '四川省成都市武侯区火车南站街道桐梓林欧城',\n",
       "  'addressComponent': {'country': '中国',\n",
       "   'province': '四川省',\n",
       "   'city': '成都市',\n",
       "   'citycode': '028',\n",
       "   'district': '武侯区',\n",
       "   'adcode': '510107',\n",
       "   'township': '火车南站街道',\n",
       "   'towncode': '510107007000',\n",
       "   'neighborhood': {'name': '桐梓林欧城', 'type': '商务住宅;住宅区;住宅小区'},\n",
       "   'building': {'name': [], 'type': []},\n",
       "   'streetNumber': {'street': '桐梓林南路',\n",
       "    'number': '7号5栋',\n",
       "    'location': '104.061484,30.611276',\n",
       "    'direction': '东',\n",
       "    'distance': '19.6163'},\n",
       "   'businessAreas': [{'location': '104.062421,30.612498',\n",
       "     'name': '桐梓林',\n",
       "     'id': '510107'}]},\n",
       "  'pois': [{'id': 'B001C7Y08I',\n",
       "    'name': '桐梓林欧城',\n",
       "    'type': '商务住宅;住宅区;住宅小区',\n",
       "    'tel': [],\n",
       "    'direction': '东南',\n",
       "    'distance': '70.228',\n",
       "    'location': '104.061604,30.610669',\n",
       "    'address': '桐梓林路南路7号',\n",
       "    'poiweight': '0.525456',\n",
       "    'businessarea': '桐梓林'}],\n",
       "  'roads': [],\n",
       "  'roadinters': [],\n",
       "  'aois': [{'id': 'B001C7Y08I',\n",
       "    'name': '桐梓林欧城',\n",
       "    'adcode': '510107',\n",
       "    'location': '104.061604,30.610669',\n",
       "    'area': '38951.303838',\n",
       "    'distance': '0',\n",
       "    'type': '120302'}]}}"
      ]
     },
     "execution_count": 96,
     "metadata": {},
     "output_type": "execute_result"
    }
   ],
   "source": [
    "pos"
   ]
  },
  {
   "cell_type": "code",
   "execution_count": 91,
   "id": "1c98b7a2",
   "metadata": {},
   "outputs": [],
   "source": [
    "url = 'https://restapi.amap.com/v3/geocode/regeo'\n",
    "# params = {\n",
    "#     \"location\": str(lat)+','+str(lng),\n",
    "#     \"output\": 'json',\n",
    "#     \"key\": KEY,\n",
    "# }\n",
    "params = {\n",
    "    \"location\": LOCATION,\n",
    "    \"output\": OUTPUT,\n",
    "    \"key\": KEY,\n",
    "    'radius': RADIUS,\n",
    "    'extensions': EX,\n",
    "    'poitype': '商务住宅|住宅区|住宅小区'\n",
    "}\n",
    "response = requests.get(url, params = params)\n",
    "# answer = json.loads(response.content)\n",
    "# 这种方式也可以\n",
    "answer = response.json()\n"
   ]
  },
  {
   "cell_type": "code",
   "execution_count": 92,
   "id": "66da357c",
   "metadata": {
    "scrolled": false
   },
   "outputs": [
    {
     "data": {
      "text/plain": [
       "{'status': '1',\n",
       " 'info': 'OK',\n",
       " 'infocode': '10000',\n",
       " 'regeocode': {'formatted_address': '四川省成都市武侯区火车南站街道桐梓林欧城',\n",
       "  'addressComponent': {'country': '中国',\n",
       "   'province': '四川省',\n",
       "   'city': '成都市',\n",
       "   'citycode': '028',\n",
       "   'district': '武侯区',\n",
       "   'adcode': '510107',\n",
       "   'township': '火车南站街道',\n",
       "   'towncode': '510107007000',\n",
       "   'neighborhood': {'name': '桐梓林欧城', 'type': '商务住宅;住宅区;住宅小区'},\n",
       "   'building': {'name': [], 'type': []},\n",
       "   'streetNumber': {'street': '桐梓林南路',\n",
       "    'number': '7号5栋',\n",
       "    'location': '104.061484,30.611276',\n",
       "    'direction': '东',\n",
       "    'distance': '19.6163'},\n",
       "   'businessAreas': [{'location': '104.062421,30.612498',\n",
       "     'name': '桐梓林',\n",
       "     'id': '510107'}]},\n",
       "  'pois': [{'id': 'B001C7Y08I',\n",
       "    'name': '桐梓林欧城',\n",
       "    'type': '商务住宅;住宅区;住宅小区',\n",
       "    'tel': [],\n",
       "    'direction': '东南',\n",
       "    'distance': '70.228',\n",
       "    'location': '104.061604,30.610669',\n",
       "    'address': '桐梓林路南路7号',\n",
       "    'poiweight': '0.525456',\n",
       "    'businessarea': '桐梓林'}],\n",
       "  'roads': [],\n",
       "  'roadinters': [],\n",
       "  'aois': [{'id': 'B001C7Y08I',\n",
       "    'name': '桐梓林欧城',\n",
       "    'adcode': '510107',\n",
       "    'location': '104.061604,30.610669',\n",
       "    'area': '38951.303838',\n",
       "    'distance': '0',\n",
       "    'type': '120302'}]}}"
      ]
     },
     "execution_count": 92,
     "metadata": {},
     "output_type": "execute_result"
    }
   ],
   "source": [
    "answer"
   ]
  },
  {
   "cell_type": "code",
   "execution_count": 47,
   "id": "3ad01f89",
   "metadata": {},
   "outputs": [
    {
     "data": {
      "text/plain": [
       "4"
      ]
     },
     "execution_count": 47,
     "metadata": {},
     "output_type": "execute_result"
    }
   ],
   "source": [
    "len(answer)"
   ]
  },
  {
   "cell_type": "code",
   "execution_count": null,
   "id": "b2ec2ec8",
   "metadata": {},
   "outputs": [],
   "source": []
  },
  {
   "cell_type": "code",
   "execution_count": 52,
   "id": "581c6328",
   "metadata": {},
   "outputs": [],
   "source": [
    "# 出发地和目的地\n",
    "KEY = '3e135c8cb8292eedcd5e342ddc1c9d43'\n",
    "ORI = '116.481028,39.989643'\n",
    "DES = '116.434446,39.90816'\n"
   ]
  },
  {
   "cell_type": "code",
   "execution_count": 53,
   "id": "58fca615",
   "metadata": {},
   "outputs": [],
   "source": [
    "url = 'https://restapi.amap.com/v3/direction/walking?parameters'\n",
    "params = {\n",
    "    \"origin\": ORI,\n",
    "    \"destination\": DES,\n",
    "    \"key\": KEY,\n",
    "    'radius': 1000\n",
    "}\n",
    "response = requests.get(url, params = params)\n",
    "answer = response.json()\n",
    "# answer\n"
   ]
  },
  {
   "cell_type": "code",
   "execution_count": 54,
   "id": "d0e23028",
   "metadata": {},
   "outputs": [
    {
     "data": {
      "text/plain": [
       "{'status': '1',\n",
       " 'info': 'ok',\n",
       " 'infocode': '10000',\n",
       " 'count': '1',\n",
       " 'route': {'origin': '116.481028,39.989643',\n",
       "  'destination': '116.434446,39.90816',\n",
       "  'paths': [{'distance': '11033',\n",
       "    'duration': '8826',\n",
       "    'steps': [{'instruction': '向南步行16米左转',\n",
       "      'orientation': '南',\n",
       "      'road': [],\n",
       "      'distance': '16',\n",
       "      'duration': '13',\n",
       "      'polyline': '116.480885,39.989371;116.480907,39.989353;116.48089,39.989227',\n",
       "      'action': '左转',\n",
       "      'assistant_action': [],\n",
       "      'walk_type': '0'},\n",
       "     {'instruction': '向东南步行292米右转',\n",
       "      'orientation': '东南',\n",
       "      'road': [],\n",
       "      'distance': '292',\n",
       "      'duration': '234',\n",
       "      'polyline': '116.480885,39.989223;116.480933,39.989201;116.480933,39.989201;116.480955,39.989184;116.481155,39.989058;116.481155,39.989058;116.481428,39.98888;116.481428,39.98888;116.481467,39.988859;116.481467,39.988859;116.482574,39.988125;116.48322,39.987665;116.48322,39.987665;116.48332,39.987565;116.48332,39.987565;116.48342,39.987435',\n",
       "      'action': '右转',\n",
       "      'assistant_action': [],\n",
       "      'walk_type': '0'},\n",
       "     {'instruction': '沿望京东路辅路向西南步行286米左转',\n",
       "      'orientation': '西南',\n",
       "      'road': '望京东路辅路',\n",
       "      'distance': '286',\n",
       "      'duration': '229',\n",
       "      'polyline': '116.48342,39.987431;116.483368,39.987387;116.483368,39.987387;116.48263,39.986753;116.48263,39.986753;116.482591,39.98671;116.482591,39.98671;116.482148,39.986289;116.481953,39.986111;116.481953,39.986111;116.481454,39.985677;116.481289,39.985434',\n",
       "      'action': '左转',\n",
       "      'assistant_action': [],\n",
       "      'walk_type': '0'},\n",
       "     {'instruction': '沿广顺南大街向东南步行161米右转',\n",
       "      'orientation': '东南',\n",
       "      'road': '广顺南大街',\n",
       "      'distance': '161',\n",
       "      'duration': '129',\n",
       "      'polyline': '116.481285,39.98543;116.481411,39.985339;116.481411,39.985339;116.481758,39.98513;116.481758,39.98513;116.482053,39.984931;116.482053,39.984931;116.482374,39.984714;116.482374,39.984714;116.482426,39.984674;116.482426,39.984674;116.482708,39.984453',\n",
       "      'action': '右转',\n",
       "      'assistant_action': [],\n",
       "      'walk_type': '0'},\n",
       "     {'instruction': '沿京密路向西南步行3662米直行',\n",
       "      'orientation': '西南',\n",
       "      'road': '京密路',\n",
       "      'distance': '3662',\n",
       "      'duration': '2930',\n",
       "      'polyline': '116.482708,39.984449;116.482591,39.984336;116.482591,39.984336;116.481606,39.983429;116.481606,39.983429;116.481233,39.983086;116.480729,39.982643;116.479983,39.981957;116.479653,39.981667;116.479653,39.981667;116.47809,39.980269;116.47809,39.980269;116.478021,39.980204;116.478021,39.980204;116.477982,39.980165;116.477982,39.980165;116.477205,39.979436;116.477205,39.979436;116.476892,39.979149;116.476892,39.979149;116.476662,39.97895;116.476662,39.97895;116.476055,39.97839;116.476055,39.97839;116.475039,39.977478;116.475039,39.977478;116.475,39.977448;116.475,39.977448;116.47388,39.976428;116.47388,39.976428;116.473286,39.975885;116.473286,39.975885;116.472765,39.97543;116.472765,39.97543;116.4724,39.975104;116.4724,39.975104;116.471315,39.974149;116.471315,39.974149;116.46924,39.972261;116.46924,39.972261;116.468281,39.971402;116.468281,39.971402;116.466997,39.97023;116.466523,39.969805;116.466523,39.969805;116.465569,39.968976;116.465569,39.968976;116.465365,39.968754;116.465365,39.968754;116.464961,39.968381;116.464961,39.968381;116.464939,39.968359;116.464939,39.968359;116.464779,39.968216;116.464779,39.968216;116.464466,39.967934;116.464466,39.967934;116.462817,39.966432;116.462817,39.966432;116.462747,39.96638;116.462747,39.96638;116.460803,39.964601;116.460803,39.964601;116.460182,39.964054;116.460182,39.964054;116.460117,39.963984;116.460117,39.963984;116.460017,39.963898;116.460017,39.963898;116.459405,39.963342;116.459405,39.963342;116.458086,39.962135;116.458086,39.962135;116.457917,39.961988;116.457917,39.961988;116.457773,39.961853;116.457773,39.961853;116.45737,39.961476;116.457339,39.961454;116.457339,39.961454;116.457201,39.961345;116.457201,39.961345;116.45691,39.961098;116.45691,39.961098;116.456749,39.960972;116.456749,39.960972;116.456645,39.960885;116.456645,39.960885;116.456406,39.96072;116.456406,39.96072;116.456345,39.960686;116.456345,39.960686;116.456172,39.960564;116.456011,39.960469;116.455842,39.960378;116.45553,39.960217;116.45553,39.960217;116.454766,39.959839;116.454583,39.959744;116.454479,39.959679;116.45444,39.959644;116.454301,39.959575',\n",
       "      'action': '直行',\n",
       "      'assistant_action': [],\n",
       "      'walk_type': '0'},\n",
       "     {'instruction': '沿香河园路向西南步行561米向右前方行走',\n",
       "      'orientation': '西南',\n",
       "      'road': '香河园路',\n",
       "      'distance': '561',\n",
       "      'duration': '449',\n",
       "      'polyline': '116.454297,39.95957;116.453516,39.95885;116.453516,39.95885;116.453316,39.958663;116.453316,39.958663;116.452821,39.958212;116.452821,39.958212;116.452669,39.958069;116.452669,39.958069;116.452296,39.957726;116.452296,39.957726;116.450929,39.956506;116.450929,39.956506;116.450916,39.956489;116.450916,39.956489;116.450668,39.956285;116.450668,39.956285;116.450456,39.956098;116.450456,39.956098;116.449991,39.955694',\n",
       "      'action': '向右前方行走',\n",
       "      'assistant_action': [],\n",
       "      'walk_type': '0'},\n",
       "     {'instruction': '向西南步行633米左转',\n",
       "      'orientation': '西南',\n",
       "      'road': [],\n",
       "      'distance': '633',\n",
       "      'duration': '506',\n",
       "      'polyline': '116.449987,39.95569;116.449631,39.955538;116.449536,39.95546;116.449536,39.95546;116.449275,39.955234;116.449275,39.955234;116.449023,39.955004;116.449023,39.955004;116.448581,39.954531;116.448581,39.954531;116.448442,39.954401;116.448108,39.954132;116.448108,39.954132;116.447643,39.953737;116.447643,39.953737;116.447526,39.95365;116.447526,39.95365;116.446636,39.952999;116.446636,39.952999;116.446237,39.952717;116.446237,39.952717;116.446107,39.952622;116.446107,39.952622;116.445412,39.952118;116.445412,39.952118;116.445126,39.951931;116.445126,39.951931;116.444714,39.951667',\n",
       "      'action': '左转',\n",
       "      'assistant_action': [],\n",
       "      'walk_type': '0'},\n",
       "     {'instruction': '沿左家庄南斜街向南步行14米右转',\n",
       "      'orientation': '南',\n",
       "      'road': '左家庄南斜街',\n",
       "      'distance': '14',\n",
       "      'duration': '11',\n",
       "      'polyline': '116.444709,39.951662;116.444714,39.951532',\n",
       "      'action': '右转',\n",
       "      'assistant_action': [],\n",
       "      'walk_type': '0'},\n",
       "     {'instruction': '沿香河园路向西南步行970米右转',\n",
       "      'orientation': '西南',\n",
       "      'road': '香河园路',\n",
       "      'distance': '970',\n",
       "      'duration': '776',\n",
       "      'polyline': '116.444714,39.951528;116.444353,39.951285;116.444353,39.951285;116.444141,39.951124;116.444141,39.951124;116.442604,39.949987;116.442604,39.949987;116.442569,39.949965;116.442569,39.949965;116.442361,39.949818;116.442361,39.949818;116.442201,39.949701;116.442201,39.949701;116.44217,39.949674;116.441332,39.94908;116.441332,39.94908;116.441194,39.948971;116.441194,39.948971;116.44112,39.948898;116.44112,39.948898;116.440638,39.948498;116.440638,39.948498;116.440495,39.948372;116.440495,39.948372;116.439891,39.947873;116.439891,39.947873;116.439553,39.947587;116.439201,39.947266;116.438945,39.947001;116.438945,39.947001;116.438898,39.946953;116.438898,39.946953;116.438576,39.946584;116.438576,39.946584;116.438464,39.946441;116.438464,39.946441;116.438294,39.946254;116.438294,39.946254;116.438225,39.946185;116.438225,39.946185;116.437921,39.945781;116.437921,39.945781;116.43783,39.945647;116.43783,39.945647;116.437678,39.945434;116.437439,39.945052;116.437439,39.945052;116.437344,39.944891',\n",
       "      'action': '右转',\n",
       "      'assistant_action': [],\n",
       "      'walk_type': '0'},\n",
       "     {'instruction': '沿香河园路向西步行280米左转',\n",
       "      'orientation': '西',\n",
       "      'road': '香河园路',\n",
       "      'distance': '280',\n",
       "      'duration': '224',\n",
       "      'polyline': '116.437339,39.944887;116.436549,39.944878;116.436549,39.944878;116.436016,39.944878;116.436016,39.944878;116.435304,39.944865;116.435304,39.944865;116.435174,39.944861;116.435174,39.944861;116.434961,39.944852;116.434961,39.944852;116.434831,39.944852;116.434831,39.944852;116.434549,39.944852;116.434466,39.944857;116.434466,39.944857;116.434266,39.944857;116.434266,39.944857;116.434236,39.944857;116.434236,39.944857;116.434002,39.944861',\n",
       "      'action': '左转',\n",
       "      'assistant_action': [],\n",
       "      'walk_type': '0'},\n",
       "     {'instruction': '沿东直门北大街向南步行414米直行',\n",
       "      'orientation': '南',\n",
       "      'road': '东直门北大街',\n",
       "      'distance': '414',\n",
       "      'duration': '331',\n",
       "      'polyline': '116.433997,39.944861;116.433997,39.944822;116.433997,39.944822;116.434049,39.944683;116.434045,39.944258;116.434045,39.944258;116.434036,39.943872;116.434036,39.943872;116.434036,39.943806;116.434036,39.943806;116.434023,39.943424;116.434023,39.943424;116.434023,39.943346;116.433945,39.943242;116.433945,39.943242;116.433902,39.942912;116.433911,39.942617;116.433911,39.942617;116.433958,39.94171;116.433958,39.94171;116.43398,39.941124',\n",
       "      'action': '直行',\n",
       "      'assistant_action': [],\n",
       "      'walk_type': '0'},\n",
       "     {'instruction': '沿东直门南大街向南步行1055米直行',\n",
       "      'orientation': '南',\n",
       "      'road': '东直门南大街',\n",
       "      'distance': '1055',\n",
       "      'duration': '844',\n",
       "      'polyline': '116.43398,39.94112;116.43401,39.940495;116.43401,39.940495;116.434049,39.939566;116.434049,39.939566;116.434102,39.938802;116.434102,39.938802;116.434188,39.938607;116.43424,39.937661;116.43424,39.937661;116.434253,39.93747;116.434253,39.93747;116.434271,39.9373;116.434271,39.937196;116.434271,39.937196;116.434271,39.937166;116.434271,39.937166;116.434284,39.936936;116.434284,39.936936;116.43431,39.936194;116.434223,39.93602;116.434223,39.93602;116.434223,39.935959;116.434223,39.935959;116.434223,39.935716;116.434223,39.935716;116.434262,39.934397;116.434262,39.934397;116.434262,39.934379;116.434262,39.934379;116.434314,39.933125;116.434314,39.933125;116.434314,39.93306;116.434314,39.93306;116.434362,39.932214;116.434362,39.932214;116.434379,39.931797;116.43444,39.931584',\n",
       "      'action': '直行',\n",
       "      'assistant_action': [],\n",
       "      'walk_type': '0'},\n",
       "     {'instruction': '沿朝阳门北大街向南步行848米直行',\n",
       "      'orientation': '南',\n",
       "      'road': '朝阳门北大街',\n",
       "      'distance': '848',\n",
       "      'duration': '678',\n",
       "      'polyline': '116.43444,39.93158;116.434462,39.931215;116.434462,39.931215;116.43447,39.93105;116.43447,39.93105;116.43447,39.930872;116.43447,39.930872;116.434475,39.930794;116.434475,39.930794;116.434475,39.93076;116.434475,39.93076;116.434501,39.930234;116.434501,39.930234;116.434523,39.929531;116.434523,39.929531;116.434536,39.929232;116.434536,39.929232;116.434562,39.928681;116.434562,39.928681;116.434562,39.928633;116.434562,39.928633;116.43457,39.928585;116.434575,39.928398;116.434575,39.928398;116.434614,39.92753;116.434614,39.92753;116.434631,39.927053;116.434631,39.927053;116.434631,39.926949;116.434631,39.926949;116.434635,39.926758;116.434635,39.926758;116.434635,39.926497;116.434635,39.926445;116.434644,39.926211;116.434696,39.925035;116.434696,39.925035;116.434705,39.925009;116.434705,39.925009;116.434744,39.923976;116.434753,39.923885',\n",
       "      'action': '直行',\n",
       "      'assistant_action': [],\n",
       "      'walk_type': '0'},\n",
       "     {'instruction': '沿朝阳门南大街向南步行904米直行',\n",
       "      'orientation': '南',\n",
       "      'road': '朝阳门南大街',\n",
       "      'distance': '904',\n",
       "      'duration': '723',\n",
       "      'polyline': '116.434753,39.92388;116.434753,39.923867;116.434753,39.923867;116.434805,39.922565;116.434826,39.922283;116.434826,39.922283;116.434852,39.92201;116.434852,39.92201;116.434852,39.921931;116.434852,39.921931;116.434874,39.921515;116.434874,39.921515;116.434896,39.921089;116.434896,39.921089;116.434913,39.920703;116.434913,39.920703;116.434935,39.920304;116.434935,39.920304;116.434957,39.919839;116.434957,39.919839;116.434974,39.919475;116.434974,39.919475;116.434987,39.91921;116.434987,39.91921;116.435009,39.918685;116.435009,39.918685;116.435009,39.918659;116.435009,39.918659;116.435026,39.917982;116.435026,39.917982;116.435048,39.917465;116.435048,39.917465;116.435074,39.916962;116.435074,39.916962;116.435078,39.916645;116.435078,39.916645;116.435078,39.916597;116.435078,39.916597;116.435104,39.916367;116.435104,39.916367;116.435104,39.916237;116.435104,39.916237;116.435104,39.916137;116.435104,39.916137;116.435109,39.916094;116.435109,39.916094;116.435117,39.915794;116.435117,39.915794;116.435126,39.915668',\n",
       "      'action': '直行',\n",
       "      'assistant_action': [],\n",
       "      'walk_type': '0'},\n",
       "     {'instruction': '沿建国门北大街向南步行27米向左前方行走',\n",
       "      'orientation': '南',\n",
       "      'road': '建国门北大街',\n",
       "      'distance': '27',\n",
       "      'duration': '22',\n",
       "      'polyline': '116.435126,39.915664;116.435135,39.915603;116.435135,39.915421',\n",
       "      'action': '向左前方行走',\n",
       "      'assistant_action': [],\n",
       "      'walk_type': '0'},\n",
       "     {'instruction': '步行102米右转',\n",
       "      'orientation': [],\n",
       "      'road': [],\n",
       "      'distance': '102',\n",
       "      'duration': '82',\n",
       "      'polyline': '116.435135,39.915417;116.435208,39.915417;116.435208,39.915417;116.435217,39.91526;116.435217,39.91526;116.435082,39.91526;116.435082,39.91526;116.434727,39.915247;116.434727,39.915247;116.434579,39.915247;116.434579,39.915247;116.434592,39.915065;116.434592,39.915065;116.434661,39.915065',\n",
       "      'action': '右转',\n",
       "      'assistant_action': [],\n",
       "      'walk_type': '4'},\n",
       "     {'instruction': '沿建国门北大街向南步行683米向左前方行走',\n",
       "      'orientation': '南',\n",
       "      'road': '建国门北大街',\n",
       "      'distance': '683',\n",
       "      'duration': '546',\n",
       "      'polyline': '116.434661,39.915061;116.434661,39.914952;116.434661,39.914952;116.434683,39.914523;116.434683,39.914523;116.434705,39.914319;116.434705,39.914319;116.434705,39.914258;116.434705,39.914258;116.434727,39.913967;116.434727,39.913967;116.434757,39.913555;116.434757,39.913555;116.434757,39.91349;116.434757,39.91349;116.434783,39.913173;116.434783,39.913173;116.434787,39.913025;116.434787,39.913025;116.434796,39.912839;116.434796,39.912839;116.434826,39.912244;116.434826,39.912244;116.434852,39.911784;116.434852,39.911784;116.434852,39.911684;116.434883,39.911202;116.434883,39.911202;116.434918,39.910109;116.434918,39.910109;116.434965,39.909045;116.434965,39.909045;116.434965,39.909028;116.434931,39.908932;116.434887,39.908867',\n",
       "      'action': '向左前方行走',\n",
       "      'assistant_action': [],\n",
       "      'walk_type': '0'},\n",
       "     {'instruction': '沿建国门北大街向南步行63米直行',\n",
       "      'orientation': '南',\n",
       "      'road': '建国门北大街',\n",
       "      'distance': '63',\n",
       "      'duration': '50',\n",
       "      'polyline': '116.434883,39.908863;116.434831,39.908724;116.434818,39.908655;116.434818,39.908542;116.434826,39.908424;116.434883,39.908303',\n",
       "      'action': '直行',\n",
       "      'assistant_action': [],\n",
       "      'walk_type': '0'},\n",
       "     {'instruction': '沿环二环城市绿道向南步行25米右转',\n",
       "      'orientation': '南',\n",
       "      'road': '环二环城市绿道',\n",
       "      'distance': '25',\n",
       "      'duration': '20',\n",
       "      'polyline': '116.434883,39.908299;116.434887,39.908077',\n",
       "      'action': '右转',\n",
       "      'assistant_action': [],\n",
       "      'walk_type': '0'},\n",
       "     {'instruction': '步行37米到达目的地',\n",
       "      'orientation': [],\n",
       "      'road': [],\n",
       "      'distance': '37',\n",
       "      'duration': '30',\n",
       "      'polyline': '116.434887,39.908073;116.434449,39.908073',\n",
       "      'action': [],\n",
       "      'assistant_action': '到达目的地',\n",
       "      'walk_type': '0'}]}]}}"
      ]
     },
     "execution_count": 54,
     "metadata": {},
     "output_type": "execute_result"
    }
   ],
   "source": [
    "answer"
   ]
  },
  {
   "cell_type": "code",
   "execution_count": null,
   "id": "0d1d692b",
   "metadata": {},
   "outputs": [],
   "source": []
  },
  {
   "cell_type": "code",
   "execution_count": null,
   "id": "080287cf",
   "metadata": {},
   "outputs": [],
   "source": []
  },
  {
   "cell_type": "code",
   "execution_count": null,
   "id": "67de43ac",
   "metadata": {},
   "outputs": [],
   "source": []
  },
  {
   "cell_type": "code",
   "execution_count": null,
   "id": "acbebf16",
   "metadata": {},
   "outputs": [],
   "source": []
  },
  {
   "cell_type": "code",
   "execution_count": 1,
   "id": "d00c7125",
   "metadata": {},
   "outputs": [],
   "source": [
    "import requests\n",
    "\n",
    "#使用高德API\n",
    "def geocodeG(address):\n",
    "    par = {'address': address, 'key': 'cb649a25c1f81c1451adbeca73623251'}\n",
    "    base = 'http://restapi.amap.com/v3/geocode/geo'\n",
    "    response = requests.get(base, par)\n",
    "    answer = response.json()\n",
    "    GPS=answer['geocodes'][0]['location'].split(\",\")\n",
    "    return GPS[0],GPS[1]\n",
    "\n",
    "#使用百度API\n",
    "def geocodeB(address):\n",
    "    base = url = \"http://api.map.baidu.com/geocoder?address=\" + address + \"&output=json&key=f247cdb592eb43ebac6ccd27f796e2d2\"\n",
    "    response = requests.get(base)\n",
    "    answer = response.json()\n",
    "    return answer['result']['location']['lng'],answer['result']['location']['lat']"
   ]
  },
  {
   "cell_type": "code",
   "execution_count": 3,
   "id": "79ff7905",
   "metadata": {},
   "outputs": [],
   "source": [
    "from math import radians, cos, sin, asin, sqrt\n",
    "\n",
    "#计算两点间距离-m\n",
    "def geodistance(lng1,lat1,lng2,lat2):\n",
    "    lng1, lat1, lng2, lat2 = map(radians, [lng1, lat1, lng2, lat2])\n",
    "    dlon=lng2-lng1\n",
    "    dlat=lat2-lat1\n",
    "    a=sin(dlat/2)**2 + cos(lat1) * cos(lat2) * sin(dlon/2)**2 \n",
    "    dis=2*asin(sqrt(a))*6371*1000\n",
    "    return dis"
   ]
  },
  {
   "cell_type": "code",
   "execution_count": 4,
   "id": "a796f28b",
   "metadata": {},
   "outputs": [],
   "source": [
    "import requests\n",
    "\n",
    "#使用高德API\n",
    "def geocodeG(address):\n",
    "    par = {'address': address, 'key': 'cb649a25c1f81c1451adbeca73623251'}\n",
    "    base = 'http://restapi.amap.com/v3/geocode/geo'\n",
    "    response = requests.get(base, par)\n",
    "    answer = response.json()\n",
    "    GPS=answer['geocodes'][0]['location'].split(\",\")\n",
    "    return GPS[0],GPS[1]\n",
    "\n",
    "#使用百度API\n",
    "def geocodeB(address):\n",
    "    base = url = \"http://api.map.baidu.com/geocoder?address=\" + address + \"&output=json&key=f247cdb592eb43ebac6ccd27f796e2d2\"\n",
    "    response = requests.get(base)\n",
    "    answer = response.json()\n",
    "    return answer['result']['location']['lng'],answer['result']['location']['lat']"
   ]
  },
  {
   "cell_type": "code",
   "execution_count": 5,
   "id": "25fd55be",
   "metadata": {},
   "outputs": [],
   "source": [
    "from math import radians, cos, sin, asin, sqrt\n",
    "\n",
    "#计算两点间距离-m\n",
    "def geodistance(lng1,lat1,lng2,lat2):\n",
    "    lng1, lat1, lng2, lat2 = map(radians, [lng1, lat1, lng2, lat2])\n",
    "    dlon=lng2-lng1\n",
    "    dlat=lat2-lat1\n",
    "    a=sin(dlat/2)**2 + cos(lat1) * cos(lat2) * sin(dlon/2)**2 \n",
    "    dis=2*asin(sqrt(a))*6371*1000\n",
    "    return dis"
   ]
  },
  {
   "cell_type": "code",
   "execution_count": 6,
   "id": "c8f5996e",
   "metadata": {},
   "outputs": [],
   "source": [
    "lng1=116.82366861979166\n",
    "lat1=39.92031060112847\n",
    "lng2=116.38985026041667\n",
    "lat2=39.86695258246528\n"
   ]
  },
  {
   "cell_type": "code",
   "execution_count": 7,
   "id": "1e8b5fb0",
   "metadata": {},
   "outputs": [
    {
     "data": {
      "text/plain": [
       "37482.775151036345"
      ]
     },
     "execution_count": 7,
     "metadata": {},
     "output_type": "execute_result"
    }
   ],
   "source": [
    "geodistance(lng1,lat1,lng2,lat2)"
   ]
  },
  {
   "cell_type": "code",
   "execution_count": 10,
   "id": "85067fec",
   "metadata": {},
   "outputs": [
    {
     "ename": "ConfigurationError",
     "evalue": "Using Nominatim with default or sample `user_agent` \"my-application\" is strongly discouraged, as it violates Nominatim's ToS https://operations.osmfoundation.org/policies/nominatim/ and may possibly cause 403 and 429 HTTP errors. Please specify a custom `user_agent` with `Nominatim(user_agent=\"my-application\")` or by overriding the default `user_agent`: `geopy.geocoders.options.default_user_agent = \"my-application\"`.",
     "output_type": "error",
     "traceback": [
      "\u001b[0;31m---------------------------------------------------------------------------\u001b[0m",
      "\u001b[0;31mConfigurationError\u001b[0m                        Traceback (most recent call last)",
      "Cell \u001b[0;32mIn[10], line 10\u001b[0m\n\u001b[1;32m      6\u001b[0m     \u001b[38;5;28;01mreturn\u001b[39;00m location\u001b[38;5;241m.\u001b[39mlongitude,location\u001b[38;5;241m.\u001b[39mlatitude\n\u001b[1;32m      9\u001b[0m address \u001b[38;5;241m=\u001b[39m \u001b[38;5;124m\"\u001b[39m\u001b[38;5;124m四川乐山市峨眉山市\u001b[39m\u001b[38;5;124m\"\u001b[39m\n\u001b[0;32m---> 10\u001b[0m \u001b[38;5;28mprint\u001b[39m(\u001b[43mgeocodeN\u001b[49m\u001b[43m(\u001b[49m\u001b[43maddress\u001b[49m\u001b[43m)\u001b[49m)\n\u001b[1;32m     11\u001b[0m address \u001b[38;5;241m=\u001b[39m \u001b[38;5;124m\"\u001b[39m\u001b[38;5;124m四川乐山市峨眉山市高桥镇\u001b[39m\u001b[38;5;124m\"\u001b[39m\n\u001b[1;32m     12\u001b[0m \u001b[38;5;28mprint\u001b[39m(geocodeN(address))\n",
      "Cell \u001b[0;32mIn[10], line 4\u001b[0m, in \u001b[0;36mgeocodeN\u001b[0;34m(address)\u001b[0m\n\u001b[1;32m      3\u001b[0m \u001b[38;5;28;01mdef\u001b[39;00m \u001b[38;5;21mgeocodeN\u001b[39m(address):\n\u001b[0;32m----> 4\u001b[0m     gps\u001b[38;5;241m=\u001b[39m\u001b[43mNominatim\u001b[49m\u001b[43m(\u001b[49m\u001b[43muser_agent\u001b[49m\u001b[38;5;241;43m=\u001b[39;49m\u001b[38;5;124;43m\"\u001b[39;49m\u001b[38;5;124;43mmy-application\u001b[39;49m\u001b[38;5;124;43m\"\u001b[39;49m\u001b[43m)\u001b[49m\n\u001b[1;32m      5\u001b[0m     location\u001b[38;5;241m=\u001b[39mgps\u001b[38;5;241m.\u001b[39mgeocode(address)\n\u001b[1;32m      6\u001b[0m     \u001b[38;5;28;01mreturn\u001b[39;00m location\u001b[38;5;241m.\u001b[39mlongitude,location\u001b[38;5;241m.\u001b[39mlatitude\n",
      "File \u001b[0;32m~/.local/lib/python3.9/site-packages/geopy/geocoders/nominatim.py:105\u001b[0m, in \u001b[0;36mNominatim.__init__\u001b[0;34m(self, timeout, proxies, domain, scheme, user_agent, ssl_context, adapter_factory)\u001b[0m\n\u001b[1;32m    101\u001b[0m \u001b[38;5;28mself\u001b[39m\u001b[38;5;241m.\u001b[39mdomain \u001b[38;5;241m=\u001b[39m domain\u001b[38;5;241m.\u001b[39mstrip(\u001b[38;5;124m'\u001b[39m\u001b[38;5;124m/\u001b[39m\u001b[38;5;124m'\u001b[39m)\n\u001b[1;32m    103\u001b[0m \u001b[38;5;28;01mif\u001b[39;00m (\u001b[38;5;28mself\u001b[39m\u001b[38;5;241m.\u001b[39mdomain \u001b[38;5;241m==\u001b[39m _DEFAULT_NOMINATIM_DOMAIN\n\u001b[1;32m    104\u001b[0m         \u001b[38;5;129;01mand\u001b[39;00m \u001b[38;5;28mself\u001b[39m\u001b[38;5;241m.\u001b[39mheaders[\u001b[38;5;124m'\u001b[39m\u001b[38;5;124mUser-Agent\u001b[39m\u001b[38;5;124m'\u001b[39m] \u001b[38;5;129;01min\u001b[39;00m _REJECTED_USER_AGENTS):\n\u001b[0;32m--> 105\u001b[0m     \u001b[38;5;28;01mraise\u001b[39;00m ConfigurationError(\n\u001b[1;32m    106\u001b[0m         \u001b[38;5;124m'\u001b[39m\u001b[38;5;124mUsing Nominatim with default or sample `user_agent` \u001b[39m\u001b[38;5;124m\"\u001b[39m\u001b[38;5;132;01m%s\u001b[39;00m\u001b[38;5;124m\"\u001b[39m\u001b[38;5;124m is \u001b[39m\u001b[38;5;124m'\u001b[39m\n\u001b[1;32m    107\u001b[0m         \u001b[38;5;124m'\u001b[39m\u001b[38;5;124mstrongly discouraged, as it violates Nominatim\u001b[39m\u001b[38;5;130;01m\\'\u001b[39;00m\u001b[38;5;124ms ToS \u001b[39m\u001b[38;5;124m'\u001b[39m\n\u001b[1;32m    108\u001b[0m         \u001b[38;5;124m'\u001b[39m\u001b[38;5;124mhttps://operations.osmfoundation.org/policies/nominatim/ \u001b[39m\u001b[38;5;124m'\u001b[39m\n\u001b[1;32m    109\u001b[0m         \u001b[38;5;124m'\u001b[39m\u001b[38;5;124mand may possibly cause 403 and 429 HTTP errors. \u001b[39m\u001b[38;5;124m'\u001b[39m\n\u001b[1;32m    110\u001b[0m         \u001b[38;5;124m'\u001b[39m\u001b[38;5;124mPlease specify a custom `user_agent` with \u001b[39m\u001b[38;5;124m'\u001b[39m\n\u001b[1;32m    111\u001b[0m         \u001b[38;5;124m'\u001b[39m\u001b[38;5;124m`Nominatim(user_agent=\u001b[39m\u001b[38;5;124m\"\u001b[39m\u001b[38;5;124mmy-application\u001b[39m\u001b[38;5;124m\"\u001b[39m\u001b[38;5;124m)` or by \u001b[39m\u001b[38;5;124m'\u001b[39m\n\u001b[1;32m    112\u001b[0m         \u001b[38;5;124m'\u001b[39m\u001b[38;5;124moverriding the default `user_agent`: \u001b[39m\u001b[38;5;124m'\u001b[39m\n\u001b[1;32m    113\u001b[0m         \u001b[38;5;124m'\u001b[39m\u001b[38;5;124m`geopy.geocoders.options.default_user_agent = \u001b[39m\u001b[38;5;124m\"\u001b[39m\u001b[38;5;124mmy-application\u001b[39m\u001b[38;5;124m\"\u001b[39m\u001b[38;5;124m`.\u001b[39m\u001b[38;5;124m'\u001b[39m\n\u001b[1;32m    114\u001b[0m         \u001b[38;5;241m%\u001b[39m \u001b[38;5;28mself\u001b[39m\u001b[38;5;241m.\u001b[39mheaders[\u001b[38;5;124m'\u001b[39m\u001b[38;5;124mUser-Agent\u001b[39m\u001b[38;5;124m'\u001b[39m]\n\u001b[1;32m    115\u001b[0m     )\n\u001b[1;32m    117\u001b[0m \u001b[38;5;28mself\u001b[39m\u001b[38;5;241m.\u001b[39mapi \u001b[38;5;241m=\u001b[39m \u001b[38;5;124m\"\u001b[39m\u001b[38;5;132;01m%s\u001b[39;00m\u001b[38;5;124m://\u001b[39m\u001b[38;5;132;01m%s\u001b[39;00m\u001b[38;5;132;01m%s\u001b[39;00m\u001b[38;5;124m\"\u001b[39m \u001b[38;5;241m%\u001b[39m (\u001b[38;5;28mself\u001b[39m\u001b[38;5;241m.\u001b[39mscheme, \u001b[38;5;28mself\u001b[39m\u001b[38;5;241m.\u001b[39mdomain, \u001b[38;5;28mself\u001b[39m\u001b[38;5;241m.\u001b[39mgeocode_path)\n\u001b[1;32m    118\u001b[0m \u001b[38;5;28mself\u001b[39m\u001b[38;5;241m.\u001b[39mreverse_api \u001b[38;5;241m=\u001b[39m \u001b[38;5;124m\"\u001b[39m\u001b[38;5;132;01m%s\u001b[39;00m\u001b[38;5;124m://\u001b[39m\u001b[38;5;132;01m%s\u001b[39;00m\u001b[38;5;132;01m%s\u001b[39;00m\u001b[38;5;124m\"\u001b[39m \u001b[38;5;241m%\u001b[39m (\u001b[38;5;28mself\u001b[39m\u001b[38;5;241m.\u001b[39mscheme, \u001b[38;5;28mself\u001b[39m\u001b[38;5;241m.\u001b[39mdomain, \u001b[38;5;28mself\u001b[39m\u001b[38;5;241m.\u001b[39mreverse_path)\n",
      "\u001b[0;31mConfigurationError\u001b[0m: Using Nominatim with default or sample `user_agent` \"my-application\" is strongly discouraged, as it violates Nominatim's ToS https://operations.osmfoundation.org/policies/nominatim/ and may possibly cause 403 and 429 HTTP errors. Please specify a custom `user_agent` with `Nominatim(user_agent=\"my-application\")` or by overriding the default `user_agent`: `geopy.geocoders.options.default_user_agent = \"my-application\"`."
     ]
    }
   ],
   "source": [
    "from geopy.geocoders import Nominatim\n",
    "# 结果的经纬度，与高德有1-2公里偏差； 且只能按照 省市区（县），无法到 乡镇； 且速度慢\n",
    "def geocodeN(address):\n",
    "    gps=Nominatim(user_agent=\"my-application\")\n",
    "    location=gps.geocode(address)\n",
    "    return location.longitude,location.latitude\n",
    "\n",
    "\n",
    "address = \"四川乐山市峨眉山市\"\n",
    "print(geocodeN(address))\n",
    "address = \"四川乐山市峨眉山市高桥镇\"\n",
    "print(geocodeN(address))"
   ]
  },
  {
   "cell_type": "code",
   "execution_count": 9,
   "id": "78147ccb",
   "metadata": {},
   "outputs": [
    {
     "name": "stdout",
     "output_type": "stream",
     "text": [
      "Collecting geopy\n",
      "  Obtaining dependency information for geopy from https://files.pythonhosted.org/packages/e1/58/9289c6a03116025cdb61461d99b2493daa4967a80b13755463d71a0affeb/geopy-2.4.0-py3-none-any.whl.metadata\n",
      "  Downloading geopy-2.4.0-py3-none-any.whl.metadata (6.8 kB)\n",
      "Collecting geographiclib<3,>=1.52 (from geopy)\n",
      "  Downloading geographiclib-2.0-py3-none-any.whl (40 kB)\n",
      "\u001b[2K     \u001b[90m━━━━━━━━━━━━━━━━━━━━━━━━━━━━━━━━━━━━━━━\u001b[0m \u001b[32m40.3/40.3 kB\u001b[0m \u001b[31m792.7 kB/s\u001b[0m eta \u001b[36m0:00:00\u001b[0m \u001b[36m0:00:01\u001b[0m\n",
      "\u001b[?25hDownloading geopy-2.4.0-py3-none-any.whl (125 kB)\n",
      "\u001b[2K   \u001b[90m━━━━━━━━━━━━━━━━━━━━━━━━━━━━━━━━━━━━━━━━\u001b[0m \u001b[32m125.4/125.4 kB\u001b[0m \u001b[31m2.1 MB/s\u001b[0m eta \u001b[36m0:00:00\u001b[0m \u001b[36m0:00:01\u001b[0m\n",
      "\u001b[?25hInstalling collected packages: geographiclib, geopy\n",
      "Successfully installed geographiclib-2.0 geopy-2.4.0\n"
     ]
    }
   ],
   "source": [
    "!pip3 install --user geopy"
   ]
  },
  {
   "cell_type": "code",
   "execution_count": 14,
   "id": "3fc3cfcf",
   "metadata": {},
   "outputs": [],
   "source": [
    "import requests\n",
    "\n",
    "# 执行一次高德地图地理逆编码的查询\n",
    "# 输入值：coordList -> 经纬度的序列,currentKey -> 当前使用的Key\n",
    "# 返回值：resultList -> 查询成功，返回结果地址的序列\n",
    "#        -1 -> 执行当前查询时Key的配额用完了\n",
    "#        -2 -> 执行当前查询出错\n",
    "def ExcuteSingleQuery(coordList ,currentkey):\n",
    "    # 1-将coordList中的经纬度坐标连接成高德地图API能够识别的样子\n",
    "    coordString = \"\"     # 当前coordList组成的string\n",
    "    for currentCoord in coordList:\n",
    "        coordString += currentCoord + '|' \n",
    "    # 2-地理编码查询需要的Url\n",
    "    output = 'json'    # 查询返回的形式\n",
    "    batch = 'true'     # 是否支持多个查询\n",
    "    base = 'https://restapi.amap.com/v3/geocode/regeo?'    # 逆地理编码查询Url的头\n",
    "    currentUrl = base + \"output=\" + output + \"&batch=\" + batch + \"&location=\" + coordString+ \"&key=\" + currentkey\n",
    "    # 3-提交请求\n",
    "    response = requests.get(currentUrl)    # 提交请求\n",
    "    answer = response.json()   # 接收返回\n",
    "    # 4-解析Json的内容\n",
    "    resultList = []    # 用来存放逆地理编码结果的空序列\n",
    "    if answer['status'] == '1' and answer['info'] == 'OK':\n",
    "        # 4.1-请求和返回都成功，则进行解析\n",
    "        tmpList = answer['regeocodes']    # 获取所有结果坐标点\n",
    "        for i in range(0,len(tmpList)):\n",
    "            try:\n",
    "                # 解析','分隔的经纬度\n",
    "                addressString = tmpList[i]['formatted_address']\n",
    "                # 放入结果序列\n",
    "                resultList.append(addressString)\n",
    "            except:\n",
    "                # 如果发生错误则存入None\n",
    "                resultList.append(None)\n",
    "        return resultList\n",
    "    elif answer['info'] == 'DAILY_QUERY_OVER_LIMIT':\n",
    "        # 4.2-当前账号的余额用完了,返回-1\n",
    "        return -1\n",
    "    else:\n",
    "        # 4.3-如果发生其他错误则返回-2\n",
    "        return -2"
   ]
  },
  {
   "cell_type": "code",
   "execution_count": 15,
   "id": "30ba8c80",
   "metadata": {},
   "outputs": [
    {
     "name": "stdout",
     "output_type": "stream",
     "text": [
      "-2\n"
     ]
    }
   ],
   "source": [
    "if __name__ == '__main__':\n",
    "\n",
    "    # 创建测试地址经纬度坐标集\n",
    "    coordList = [\n",
    "        \"121.475538,31.228207\",\n",
    "        \"121.479475,31.235831\",\n",
    "        \"121.459444,31.233372\",\n",
    "        \"121.50825,31.2296841\",\n",
    "        \"121.518464,31.231464\"\n",
    "    ]\n",
    "\n",
    "    # 进行地理编码\n",
    "    print(ExcuteSingleQuery(coordList = coordList, currentkey=\"365ac412d6e22f49ce3d345270ecc643\"))"
   ]
  },
  {
   "cell_type": "code",
   "execution_count": 16,
   "id": "5824f766",
   "metadata": {},
   "outputs": [
    {
     "ename": "NameError",
     "evalue": "name 'get' is not defined",
     "output_type": "error",
     "traceback": [
      "\u001b[0;31m---------------------------------------------------------------------------\u001b[0m",
      "\u001b[0;31mNameError\u001b[0m                                 Traceback (most recent call last)",
      "Cell \u001b[0;32mIn[16], line 1\u001b[0m\n\u001b[0;32m----> 1\u001b[0m \u001b[43mget\u001b[49m(\u001b[38;5;124m'\u001b[39m\u001b[38;5;124mhttps://restapi.amap.com/v3/geocode/geo?key=27a90950bd4233a3589503ba03d58f25&address=\u001b[39m\u001b[38;5;132;01m%E\u001b[39;00m\u001b[38;5;124m4\u001b[39m\u001b[38;5;124m%\u001b[39m\u001b[38;5;124mB8\u001b[39m\u001b[38;5;124m%\u001b[39m\u001b[38;5;124m8A\u001b[39m\u001b[38;5;132;01m%E\u001b[39;00m\u001b[38;5;124m6\u001b[39m\u001b[38;5;124m%\u001b[39m\u001b[38;5;124mB5\u001b[39m\u001b[38;5;124m%\u001b[39m\u001b[38;5;124mB7\u001b[39m\u001b[38;5;132;01m%E\u001b[39;00m\u001b[38;5;124m5\u001b[39m\u001b[38;5;124m%\u001b[39m\u001b[38;5;124mB8\u001b[39m\u001b[38;5;132;01m%82%\u001b[39;00m\u001b[38;5;124mE5\u001b[39m\u001b[38;5;132;01m%98%\u001b[39;00m\u001b[38;5;124m89\u001b[39m\u001b[38;5;132;01m%E\u001b[39;00m\u001b[38;5;124m5\u001b[39m\u001b[38;5;124m%\u001b[39m\u001b[38;5;124mAE\u001b[39m\u001b[38;5;124m%\u001b[39m\u001b[38;5;124m9A\u001b[39m\u001b[38;5;132;01m%E\u001b[39;00m\u001b[38;5;124m5\u001b[39m\u001b[38;5;124m%\u001b[39m\u001b[38;5;124m8C\u001b[39m\u001b[38;5;124m%\u001b[39m\u001b[38;5;124mBA\u001b[39m\u001b[38;5;132;01m%E\u001b[39;00m\u001b[38;5;124m5\u001b[39m\u001b[38;5;124m%\u001b[39m\u001b[38;5;124mA2\u001b[39m\u001b[38;5;124m%\u001b[39m\u001b[38;5;124mA8\u001b[39m\u001b[38;5;132;01m%E\u001b[39;00m\u001b[38;5;124m7\u001b[39m\u001b[38;5;132;01m%8E\u001b[39;00m\u001b[38;5;132;01m%89%\u001b[39;00m\u001b[38;5;124mE5\u001b[39m\u001b[38;5;124m%\u001b[39m\u001b[38;5;124m8D\u001b[39m\u001b[38;5;132;01m%97%\u001b[39;00m\u001b[38;5;124mE8\u001b[39m\u001b[38;5;124m%\u001b[39m\u001b[38;5;124mB7\u001b[39m\u001b[38;5;124m%\u001b[39m\u001b[38;5;124mAF888\u001b[39m\u001b[38;5;132;01m%E\u001b[39;00m\u001b[38;5;124m5\u001b[39m\u001b[38;5;132;01m%8F\u001b[39;00m\u001b[38;5;124m%\u001b[39m\u001b[38;5;124mB7\u001b[39m\u001b[38;5;124m%\u001b[39m\u001b[38;5;124m7C\u001b[39m\u001b[38;5;132;01m%E\u001b[39;00m\u001b[38;5;124m4\u001b[39m\u001b[38;5;124m%\u001b[39m\u001b[38;5;124mB8\u001b[39m\u001b[38;5;124m%\u001b[39m\u001b[38;5;124m8A\u001b[39m\u001b[38;5;132;01m%E\u001b[39;00m\u001b[38;5;124m6\u001b[39m\u001b[38;5;124m%\u001b[39m\u001b[38;5;124mB5\u001b[39m\u001b[38;5;124m%\u001b[39m\u001b[38;5;124mB7\u001b[39m\u001b[38;5;132;01m%E\u001b[39;00m\u001b[38;5;124m5\u001b[39m\u001b[38;5;124m%\u001b[39m\u001b[38;5;124mB8\u001b[39m\u001b[38;5;132;01m%82%\u001b[39;00m\u001b[38;5;124mE5\u001b[39m\u001b[38;5;132;01m%98%\u001b[39;00m\u001b[38;5;124m89\u001b[39m\u001b[38;5;132;01m%E\u001b[39;00m\u001b[38;5;124m5\u001b[39m\u001b[38;5;124m%\u001b[39m\u001b[38;5;124mAE\u001b[39m\u001b[38;5;124m%\u001b[39m\u001b[38;5;124m9A\u001b[39m\u001b[38;5;132;01m%E\u001b[39;00m\u001b[38;5;124m5\u001b[39m\u001b[38;5;124m%\u001b[39m\u001b[38;5;124m8C\u001b[39m\u001b[38;5;124m%\u001b[39m\u001b[38;5;124mBA\u001b[39m\u001b[38;5;132;01m%E\u001b[39;00m\u001b[38;5;124m5\u001b[39m\u001b[38;5;132;01m%98%\u001b[39;00m\u001b[38;5;124m89\u001b[39m\u001b[38;5;132;01m%E\u001b[39;00m\u001b[38;5;124m5\u001b[39m\u001b[38;5;124m%\u001b[39m\u001b[38;5;124mAE\u001b[39m\u001b[38;5;124m%\u001b[39m\u001b[38;5;124m9A\u001b[39m\u001b[38;5;132;01m%E\u001b[39;00m\u001b[38;5;124m5\u001b[39m\u001b[38;5;124m%\u001b[39m\u001b[38;5;124m8C\u001b[39m\u001b[38;5;124m%\u001b[39m\u001b[38;5;124mBA\u001b[39m\u001b[38;5;132;01m%E\u001b[39;00m\u001b[38;5;124m5\u001b[39m\u001b[38;5;124m%\u001b[39m\u001b[38;5;124mA2\u001b[39m\u001b[38;5;124m%\u001b[39m\u001b[38;5;124mA8\u001b[39m\u001b[38;5;132;01m%E\u001b[39;00m\u001b[38;5;124m7\u001b[39m\u001b[38;5;132;01m%8E\u001b[39;00m\u001b[38;5;132;01m%89%\u001b[39;00m\u001b[38;5;124mE5\u001b[39m\u001b[38;5;124m%\u001b[39m\u001b[38;5;124m8D\u001b[39m\u001b[38;5;132;01m%97%\u001b[39;00m\u001b[38;5;124mE8\u001b[39m\u001b[38;5;124m%\u001b[39m\u001b[38;5;124mB7\u001b[39m\u001b[38;5;124m%\u001b[39m\u001b[38;5;124mAF1\u001b[39m\u001b[38;5;132;01m%E\u001b[39;00m\u001b[38;5;124m5\u001b[39m\u001b[38;5;132;01m%8F\u001b[39;00m\u001b[38;5;124m%\u001b[39m\u001b[38;5;124mB7&batch=true&output=json\u001b[39m\u001b[38;5;124m'\u001b[39m)\n",
      "\u001b[0;31mNameError\u001b[0m: name 'get' is not defined"
     ]
    }
   ],
   "source": [
    "get('https://restapi.amap.com/v3/geocode/geo?key=27a90950bd4233a3589503ba03d58f25&address=%E4%B8%8A%E6%B5%B7%E5%B8%82%E5%98%89%E5%AE%9A%E5%8C%BA%E5%A2%A8%E7%8E%89%E5%8D%97%E8%B7%AF888%E5%8F%B7%7C%E4%B8%8A%E6%B5%B7%E5%B8%82%E5%98%89%E5%AE%9A%E5%8C%BA%E5%98%89%E5%AE%9A%E5%8C%BA%E5%A2%A8%E7%8E%89%E5%8D%97%E8%B7%AF1%E5%8F%B7&batch=true&output=json')"
   ]
  },
  {
   "cell_type": "code",
   "execution_count": 75,
   "id": "b31c5a4d",
   "metadata": {},
   "outputs": [
    {
     "data": {
      "text/plain": [
       "'{\"status\":\"1\",\"info\":\"OK\",\"infocode\":\"10000\",\"count\":\"1\",\"geocodes\":[{\"formatted_address\":\"江苏省南京市\",\"country\":\"中国\",\"province\":\"江苏省\",\"citycode\":\"025\",\"city\":\"南京市\",\"district\":[],\"township\":[],\"neighborhood\":{\"name\":[],\"type\":[]},\"building\":{\"name\":[],\"type\":[]},\"adcode\":\"320100\",\"street\":[],\"number\":[],\"location\":\"118.796877,32.060255\",\"level\":\"市\"}]}'"
      ]
     },
     "execution_count": 75,
     "metadata": {},
     "output_type": "execute_result"
    }
   ],
   "source": [
    "import requests\n",
    "import json\n",
    "\n",
    "url = 'https://restapi.amap.com/v3/geocode/geo'   # 输入API问号前固定不变的部分\n",
    "params = { 'key': '3e135c8cb8292eedcd5e342ddc1c9d43',\n",
    "           'address': '南京市'   }                # 将两个参数放入字典\n",
    "res = requests.get(url, params)\n",
    "res.text"
   ]
  },
  {
   "cell_type": "code",
   "execution_count": 76,
   "id": "92f28b47",
   "metadata": {},
   "outputs": [
    {
     "data": {
      "text/plain": [
       "'118.796877,32.060255'"
      ]
     },
     "execution_count": 76,
     "metadata": {},
     "output_type": "execute_result"
    }
   ],
   "source": [
    "jd = json.loads(res.text)      # 将json数据转化为Python字典格式\n",
    "coords = jd['geocodes'][0]['location']\n",
    "coords"
   ]
  },
  {
   "cell_type": "code",
   "execution_count": 77,
   "id": "5ef8a232",
   "metadata": {},
   "outputs": [
    {
     "data": {
      "text/plain": [
       "{'formatted_address': '江苏省南京市',\n",
       " 'country': '中国',\n",
       " 'province': '江苏省',\n",
       " 'citycode': '025',\n",
       " 'city': '南京市',\n",
       " 'district': [],\n",
       " 'township': [],\n",
       " 'neighborhood': {'name': [], 'type': []},\n",
       " 'building': {'name': [], 'type': []},\n",
       " 'adcode': '320100',\n",
       " 'street': [],\n",
       " 'number': [],\n",
       " 'location': '118.796877,32.060255',\n",
       " 'level': '市'}"
      ]
     },
     "execution_count": 77,
     "metadata": {},
     "output_type": "execute_result"
    }
   ],
   "source": [
    "jd['geocodes'][0]"
   ]
  },
  {
   "cell_type": "code",
   "execution_count": null,
   "id": "ca3c5aa2",
   "metadata": {},
   "outputs": [],
   "source": []
  },
  {
   "cell_type": "code",
   "execution_count": 258,
   "id": "4af74b7f",
   "metadata": {},
   "outputs": [
    {
     "data": {
      "text/plain": [
       "40290.088638195004"
      ]
     },
     "execution_count": 258,
     "metadata": {},
     "output_type": "execute_result"
    }
   ],
   "source": [
    "500000000/365/34"
   ]
  },
  {
   "cell_type": "code",
   "execution_count": null,
   "id": "2899c32e",
   "metadata": {},
   "outputs": [],
   "source": []
  },
  {
   "cell_type": "code",
   "execution_count": null,
   "id": "4f8ab27f",
   "metadata": {},
   "outputs": [],
   "source": []
  },
  {
   "cell_type": "code",
   "execution_count": null,
   "id": "04c4d7ef",
   "metadata": {},
   "outputs": [],
   "source": []
  }
 ],
 "metadata": {
  "kernelspec": {
   "display_name": "Python 3 (ipykernel)",
   "language": "python",
   "name": "python3"
  },
  "language_info": {
   "codemirror_mode": {
    "name": "ipython",
    "version": 3
   },
   "file_extension": ".py",
   "mimetype": "text/x-python",
   "name": "python",
   "nbconvert_exporter": "python",
   "pygments_lexer": "ipython3",
   "version": "3.9.18"
  }
 },
 "nbformat": 4,
 "nbformat_minor": 5
}
